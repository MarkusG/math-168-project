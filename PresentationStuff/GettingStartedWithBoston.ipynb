{
 "cells": [
  {
   "cell_type": "markdown",
   "id": "b44f93fa-8b33-4b76-a149-6e70cc70f78c",
   "metadata": {},
   "source": [
    "# To Start!"
   ]
  },
  {
   "cell_type": "markdown",
   "id": "140e3a7e-a70c-4008-babb-88e2eb9e1352",
   "metadata": {},
   "source": [
    "We first import the packages that we will be using. \n",
    "\n",
    "We need pandas to work on our data, matplotlib pyplot for visualizations, numpy for array calculations, and finally networkx for all our graph networks."
   ]
  },
  {
   "cell_type": "code",
   "execution_count": 1,
   "id": "1ab91c55-71f7-4333-8e87-4ee6eb9fe5a2",
   "metadata": {
    "tags": [],
    "ExecuteTime": {
     "end_time": "2023-11-14T03:46:00.155260100Z",
     "start_time": "2023-11-14T03:45:58.606541Z"
    }
   },
   "outputs": [],
   "source": [
    "import networkx as nx\n",
    "import matplotlib.pyplot as plt\n",
    "import numpy as np\n",
    "import pandas as pd"
   ]
  },
  {
   "cell_type": "markdown",
   "id": "ad022c4a-47b3-4ace-97db-a5b75eb0274f",
   "metadata": {},
   "source": [
    "Next, we grab the static gtfs rail text files and read them into dataframes."
   ]
  },
  {
   "cell_type": "code",
   "execution_count": 38,
   "id": "36d3a709-60e9-4bba-bd8d-8ab0dec4a2f3",
   "metadata": {
    "tags": [],
    "ExecuteTime": {
     "end_time": "2023-11-14T04:24:32.954556700Z",
     "start_time": "2023-11-14T04:24:31.422427800Z"
    }
   },
   "outputs": [
    {
     "name": "stderr",
     "output_type": "stream",
     "text": [
      "C:\\Users\\bowen\\AppData\\Local\\Temp\\ipykernel_17244\\1795185504.py:1: DtypeWarning: Columns (4) have mixed types. Specify dtype option on import or set low_memory=False.\n",
      "  trips = pd.read_csv('../Boston_MBTA_Data/trips.txt')\n",
      "C:\\Users\\bowen\\AppData\\Local\\Temp\\ipykernel_17244\\1795185504.py:5: DtypeWarning: Columns (0,3,5) have mixed types. Specify dtype option on import or set low_memory=False.\n",
      "  stop_times = pd.read_csv('../Boston_MBTA_Data/stop_times.txt')\n"
     ]
    }
   ],
   "source": [
    "trips = pd.read_csv('../Boston_MBTA_Data/trips.txt')\n",
    "stops = pd.read_csv('../Boston_MBTA_Data/stops.txt')\n",
    "lines = pd.read_csv('../Boston_MBTA_Data/lines.txt')\n",
    "routes = pd.read_csv('../Boston_MBTA_Data/routes.txt')\n",
    "stop_times = pd.read_csv('../Boston_MBTA_Data/stop_times.txt')\n",
    "stop_time_updates = pd.read_csv('../mbta_data/stop_time_updates.csv')"
   ]
  },
  {
   "cell_type": "markdown",
   "id": "a422c1c9-5cca-43dc-8700-4c7cbb010d25",
   "metadata": {},
   "source": [
    "Let us see what we have. We check which stops are using vehicle type 1 (subway)."
   ]
  },
  {
   "cell_type": "code",
   "execution_count": 3,
   "outputs": [
    {
     "data": {
      "text/plain": "                                    route_id  agency_id  \\\n0                                        Red          1   \n1                                   Mattapan          1   \n2                                     Orange          1   \n3                                    Green-B          1   \n4                                    Green-C          1   \n..                                       ...        ...   \n216                          Shuttle-JFKPark          1   \n217                   Shuttle-LynnSwampscott          1   \n218             Shuttle-NorthStationOakGrove          1   \n219                  Shuttle-OakGroveReading          1   \n220  Shuttle-OakGroveWellingtonViaMaldenEast          1   \n\n                      route_short_name  \\\n0                                  NaN   \n1                                  NaN   \n2                                  NaN   \n3                                    B   \n4                                    C   \n..                                 ...   \n216                   Red Line Shuttle   \n217  Newburyport/Rockport Line Shuttle   \n218                Orange Line Shuttle   \n219             Haverhill Line Shuttle   \n220                Orange Line Shuttle   \n\n                              route_long_name            route_desc  \\\n0                                    Red Line         Rapid Transit   \n1                            Mattapan Trolley         Rapid Transit   \n2                                 Orange Line         Rapid Transit   \n3                                Green Line B         Rapid Transit   \n4                                Green Line C         Rapid Transit   \n..                                        ...                   ...   \n216                   JFK/UMass - Park Street  Rail Replacement Bus   \n217                         Lynn - Swampscott  Rail Replacement Bus   \n218                 Oak Grove - North Station  Rail Replacement Bus   \n219                       Reading - Oak Grove  Rail Replacement Bus   \n220  Oak Grove - Wellington via Malden Center  Rail Replacement Bus   \n\n     route_type                                route_url route_color  \\\n0             1       https://www.mbta.com/schedules/Red      DA291C   \n1             0  https://www.mbta.com/schedules/Mattapan      DA291C   \n2             1    https://www.mbta.com/schedules/Orange      ED8B00   \n3             0   https://www.mbta.com/schedules/Green-B      00843D   \n4             0   https://www.mbta.com/schedules/Green-C      00843D   \n..          ...                                      ...         ...   \n216           3                                      NaN      FFC72C   \n217           3                                      NaN      FFC72C   \n218           3                                      NaN      FFC72C   \n219           3                                      NaN      FFC72C   \n220           3                                      NaN      FFC72C   \n\n    route_text_color  route_sort_order route_fare_class           line_id  \\\n0             FFFFFF             10010    Rapid Transit          line-Red   \n1             FFFFFF             10011    Rapid Transit     line-Mattapan   \n2             FFFFFF             10020    Rapid Transit       line-Orange   \n3             FFFFFF             10032    Rapid Transit        line-Green   \n4             FFFFFF             10033    Rapid Transit        line-Green   \n..               ...               ...              ...               ...   \n216           000000             61997             Free          line-Red   \n217           000000             62053             Free  line-Newburyport   \n218           000000             62150             Free       line-Orange   \n219           000000             62170             Free    line-Haverhill   \n220           000000             62305             Free       line-Orange   \n\n     listed_route            network_id  \n0             NaN         rapid_transit  \n1             NaN       m_rapid_transit  \n2             NaN         rapid_transit  \n3             NaN         rapid_transit  \n4             NaN         rapid_transit  \n..            ...                   ...  \n216           1.0  rail_replacement_bus  \n217           1.0  rail_replacement_bus  \n218           1.0  rail_replacement_bus  \n219           1.0  rail_replacement_bus  \n220           1.0  rail_replacement_bus  \n\n[221 rows x 14 columns]",
      "text/html": "<div>\n<style scoped>\n    .dataframe tbody tr th:only-of-type {\n        vertical-align: middle;\n    }\n\n    .dataframe tbody tr th {\n        vertical-align: top;\n    }\n\n    .dataframe thead th {\n        text-align: right;\n    }\n</style>\n<table border=\"1\" class=\"dataframe\">\n  <thead>\n    <tr style=\"text-align: right;\">\n      <th></th>\n      <th>route_id</th>\n      <th>agency_id</th>\n      <th>route_short_name</th>\n      <th>route_long_name</th>\n      <th>route_desc</th>\n      <th>route_type</th>\n      <th>route_url</th>\n      <th>route_color</th>\n      <th>route_text_color</th>\n      <th>route_sort_order</th>\n      <th>route_fare_class</th>\n      <th>line_id</th>\n      <th>listed_route</th>\n      <th>network_id</th>\n    </tr>\n  </thead>\n  <tbody>\n    <tr>\n      <th>0</th>\n      <td>Red</td>\n      <td>1</td>\n      <td>NaN</td>\n      <td>Red Line</td>\n      <td>Rapid Transit</td>\n      <td>1</td>\n      <td>https://www.mbta.com/schedules/Red</td>\n      <td>DA291C</td>\n      <td>FFFFFF</td>\n      <td>10010</td>\n      <td>Rapid Transit</td>\n      <td>line-Red</td>\n      <td>NaN</td>\n      <td>rapid_transit</td>\n    </tr>\n    <tr>\n      <th>1</th>\n      <td>Mattapan</td>\n      <td>1</td>\n      <td>NaN</td>\n      <td>Mattapan Trolley</td>\n      <td>Rapid Transit</td>\n      <td>0</td>\n      <td>https://www.mbta.com/schedules/Mattapan</td>\n      <td>DA291C</td>\n      <td>FFFFFF</td>\n      <td>10011</td>\n      <td>Rapid Transit</td>\n      <td>line-Mattapan</td>\n      <td>NaN</td>\n      <td>m_rapid_transit</td>\n    </tr>\n    <tr>\n      <th>2</th>\n      <td>Orange</td>\n      <td>1</td>\n      <td>NaN</td>\n      <td>Orange Line</td>\n      <td>Rapid Transit</td>\n      <td>1</td>\n      <td>https://www.mbta.com/schedules/Orange</td>\n      <td>ED8B00</td>\n      <td>FFFFFF</td>\n      <td>10020</td>\n      <td>Rapid Transit</td>\n      <td>line-Orange</td>\n      <td>NaN</td>\n      <td>rapid_transit</td>\n    </tr>\n    <tr>\n      <th>3</th>\n      <td>Green-B</td>\n      <td>1</td>\n      <td>B</td>\n      <td>Green Line B</td>\n      <td>Rapid Transit</td>\n      <td>0</td>\n      <td>https://www.mbta.com/schedules/Green-B</td>\n      <td>00843D</td>\n      <td>FFFFFF</td>\n      <td>10032</td>\n      <td>Rapid Transit</td>\n      <td>line-Green</td>\n      <td>NaN</td>\n      <td>rapid_transit</td>\n    </tr>\n    <tr>\n      <th>4</th>\n      <td>Green-C</td>\n      <td>1</td>\n      <td>C</td>\n      <td>Green Line C</td>\n      <td>Rapid Transit</td>\n      <td>0</td>\n      <td>https://www.mbta.com/schedules/Green-C</td>\n      <td>00843D</td>\n      <td>FFFFFF</td>\n      <td>10033</td>\n      <td>Rapid Transit</td>\n      <td>line-Green</td>\n      <td>NaN</td>\n      <td>rapid_transit</td>\n    </tr>\n    <tr>\n      <th>...</th>\n      <td>...</td>\n      <td>...</td>\n      <td>...</td>\n      <td>...</td>\n      <td>...</td>\n      <td>...</td>\n      <td>...</td>\n      <td>...</td>\n      <td>...</td>\n      <td>...</td>\n      <td>...</td>\n      <td>...</td>\n      <td>...</td>\n      <td>...</td>\n    </tr>\n    <tr>\n      <th>216</th>\n      <td>Shuttle-JFKPark</td>\n      <td>1</td>\n      <td>Red Line Shuttle</td>\n      <td>JFK/UMass - Park Street</td>\n      <td>Rail Replacement Bus</td>\n      <td>3</td>\n      <td>NaN</td>\n      <td>FFC72C</td>\n      <td>000000</td>\n      <td>61997</td>\n      <td>Free</td>\n      <td>line-Red</td>\n      <td>1.0</td>\n      <td>rail_replacement_bus</td>\n    </tr>\n    <tr>\n      <th>217</th>\n      <td>Shuttle-LynnSwampscott</td>\n      <td>1</td>\n      <td>Newburyport/Rockport Line Shuttle</td>\n      <td>Lynn - Swampscott</td>\n      <td>Rail Replacement Bus</td>\n      <td>3</td>\n      <td>NaN</td>\n      <td>FFC72C</td>\n      <td>000000</td>\n      <td>62053</td>\n      <td>Free</td>\n      <td>line-Newburyport</td>\n      <td>1.0</td>\n      <td>rail_replacement_bus</td>\n    </tr>\n    <tr>\n      <th>218</th>\n      <td>Shuttle-NorthStationOakGrove</td>\n      <td>1</td>\n      <td>Orange Line Shuttle</td>\n      <td>Oak Grove - North Station</td>\n      <td>Rail Replacement Bus</td>\n      <td>3</td>\n      <td>NaN</td>\n      <td>FFC72C</td>\n      <td>000000</td>\n      <td>62150</td>\n      <td>Free</td>\n      <td>line-Orange</td>\n      <td>1.0</td>\n      <td>rail_replacement_bus</td>\n    </tr>\n    <tr>\n      <th>219</th>\n      <td>Shuttle-OakGroveReading</td>\n      <td>1</td>\n      <td>Haverhill Line Shuttle</td>\n      <td>Reading - Oak Grove</td>\n      <td>Rail Replacement Bus</td>\n      <td>3</td>\n      <td>NaN</td>\n      <td>FFC72C</td>\n      <td>000000</td>\n      <td>62170</td>\n      <td>Free</td>\n      <td>line-Haverhill</td>\n      <td>1.0</td>\n      <td>rail_replacement_bus</td>\n    </tr>\n    <tr>\n      <th>220</th>\n      <td>Shuttle-OakGroveWellingtonViaMaldenEast</td>\n      <td>1</td>\n      <td>Orange Line Shuttle</td>\n      <td>Oak Grove - Wellington via Malden Center</td>\n      <td>Rail Replacement Bus</td>\n      <td>3</td>\n      <td>NaN</td>\n      <td>FFC72C</td>\n      <td>000000</td>\n      <td>62305</td>\n      <td>Free</td>\n      <td>line-Orange</td>\n      <td>1.0</td>\n      <td>rail_replacement_bus</td>\n    </tr>\n  </tbody>\n</table>\n<p>221 rows × 14 columns</p>\n</div>"
     },
     "execution_count": 3,
     "metadata": {},
     "output_type": "execute_result"
    }
   ],
   "source": [
    "routes"
   ],
   "metadata": {
    "collapsed": false,
    "ExecuteTime": {
     "end_time": "2023-11-14T03:46:00.462826500Z",
     "start_time": "2023-11-14T03:46:00.352388300Z"
    }
   },
   "id": "2cbc7fd7181fa2c1"
  },
  {
   "cell_type": "code",
   "execution_count": 4,
   "outputs": [
    {
     "data": {
      "text/plain": "         stop_id  stop_code    stop_name  \\\n7236       70061    70061.0      Alewife   \n7238  Alewife-01        NaN      Alewife   \n7239  Alewife-02        NaN      Alewife   \n7258       70083    70083.0       Andrew   \n7259       70084    70084.0       Andrew   \n...          ...        ...          ...   \n9550       70050    70050.0  Wood Island   \n9577       70099    70099.0    Wollaston   \n9578       70100    70100.0    Wollaston   \n9619       70059    70059.0   Wonderland   \n9620       70060    70060.0   Wonderland   \n\n                                  stop_desc platform_code      platform_name  \\\n7236                     Alewife - Red Line           NaN           Red Line   \n7238           Alewife - Red Line - Track 1             1            Track 1   \n7239           Alewife - Red Line - Track 2             2            Track 2   \n7258  Andrew - Red Line - Ashmont/Braintree             1  Ashmont/Braintree   \n7259            Andrew - Red Line - Alewife             2            Alewife   \n...                                     ...           ...                ...   \n9550   Wood Island - Blue Line - Wonderland             2         Wonderland   \n9577       Wollaston - Red Line - Braintree           NaN          Braintree   \n9578         Wollaston - Red Line - Alewife           NaN            Alewife   \n9619       Wonderland - Blue Line - Bowdoin             1            Bowdoin   \n9620     Wonderland - Blue Line - Exit Only             2          Exit Only   \n\n       stop_lat   stop_lon       zone_id stop_address  \\\n7236  42.396158 -71.139971  RapidTransit          NaN   \n7238  42.396158 -71.139971  RapidTransit          NaN   \n7239  42.396158 -71.139971  RapidTransit          NaN   \n7258  42.330154 -71.057655  RapidTransit          NaN   \n7259  42.330154 -71.057655  RapidTransit          NaN   \n...         ...        ...           ...          ...   \n9550  42.379671 -71.022783  RapidTransit          NaN   \n9577  42.266762 -71.020542  RapidTransit          NaN   \n9578  42.266788 -71.020457  RapidTransit          NaN   \n9619  42.413514 -70.991714  RapidTransit          NaN   \n9620  42.413361 -70.991685  RapidTransit          NaN   \n\n                                    stop_url           level_id  \\\n7236  https://www.mbta.com/stops/place-alfcl  level_-2_platform   \n7238  https://www.mbta.com/stops/place-alfcl  level_-2_platform   \n7239  https://www.mbta.com/stops/place-alfcl  level_-2_platform   \n7258  https://www.mbta.com/stops/place-andrw  level_-2_platform   \n7259  https://www.mbta.com/stops/place-andrw  level_-2_platform   \n...                                      ...                ...   \n9550  https://www.mbta.com/stops/place-wimnl   level_0_platform   \n9577  https://www.mbta.com/stops/place-wlsta   level_1_platform   \n9578  https://www.mbta.com/stops/place-wlsta   level_1_platform   \n9619  https://www.mbta.com/stops/place-wondl   level_0_platform   \n9620  https://www.mbta.com/stops/place-wondl   level_0_platform   \n\n      location_type parent_station  wheelchair_boarding municipality  \\\n7236              0    place-alfcl                    1    Cambridge   \n7238              0    place-alfcl                    1    Cambridge   \n7239              0    place-alfcl                    1    Cambridge   \n7258              0    place-andrw                    1       Boston   \n7259              0    place-andrw                    1       Boston   \n...             ...            ...                  ...          ...   \n9550              0    place-wimnl                    1       Boston   \n9577              0    place-wlsta                    1       Quincy   \n9578              0    place-wlsta                    1       Quincy   \n9619              0    place-wondl                    1       Revere   \n9620              0    place-wondl                    1       Revere   \n\n     on_street at_street  vehicle_type  \n7236       NaN       NaN           1.0  \n7238       NaN       NaN           1.0  \n7239       NaN       NaN           1.0  \n7258       NaN       NaN           1.0  \n7259       NaN       NaN           1.0  \n...        ...       ...           ...  \n9550       NaN       NaN           1.0  \n9577       NaN       NaN           1.0  \n9578       NaN       NaN           1.0  \n9619       NaN       NaN           1.0  \n9620       NaN       NaN           1.0  \n\n[114 rows x 19 columns]",
      "text/html": "<div>\n<style scoped>\n    .dataframe tbody tr th:only-of-type {\n        vertical-align: middle;\n    }\n\n    .dataframe tbody tr th {\n        vertical-align: top;\n    }\n\n    .dataframe thead th {\n        text-align: right;\n    }\n</style>\n<table border=\"1\" class=\"dataframe\">\n  <thead>\n    <tr style=\"text-align: right;\">\n      <th></th>\n      <th>stop_id</th>\n      <th>stop_code</th>\n      <th>stop_name</th>\n      <th>stop_desc</th>\n      <th>platform_code</th>\n      <th>platform_name</th>\n      <th>stop_lat</th>\n      <th>stop_lon</th>\n      <th>zone_id</th>\n      <th>stop_address</th>\n      <th>stop_url</th>\n      <th>level_id</th>\n      <th>location_type</th>\n      <th>parent_station</th>\n      <th>wheelchair_boarding</th>\n      <th>municipality</th>\n      <th>on_street</th>\n      <th>at_street</th>\n      <th>vehicle_type</th>\n    </tr>\n  </thead>\n  <tbody>\n    <tr>\n      <th>7236</th>\n      <td>70061</td>\n      <td>70061.0</td>\n      <td>Alewife</td>\n      <td>Alewife - Red Line</td>\n      <td>NaN</td>\n      <td>Red Line</td>\n      <td>42.396158</td>\n      <td>-71.139971</td>\n      <td>RapidTransit</td>\n      <td>NaN</td>\n      <td>https://www.mbta.com/stops/place-alfcl</td>\n      <td>level_-2_platform</td>\n      <td>0</td>\n      <td>place-alfcl</td>\n      <td>1</td>\n      <td>Cambridge</td>\n      <td>NaN</td>\n      <td>NaN</td>\n      <td>1.0</td>\n    </tr>\n    <tr>\n      <th>7238</th>\n      <td>Alewife-01</td>\n      <td>NaN</td>\n      <td>Alewife</td>\n      <td>Alewife - Red Line - Track 1</td>\n      <td>1</td>\n      <td>Track 1</td>\n      <td>42.396158</td>\n      <td>-71.139971</td>\n      <td>RapidTransit</td>\n      <td>NaN</td>\n      <td>https://www.mbta.com/stops/place-alfcl</td>\n      <td>level_-2_platform</td>\n      <td>0</td>\n      <td>place-alfcl</td>\n      <td>1</td>\n      <td>Cambridge</td>\n      <td>NaN</td>\n      <td>NaN</td>\n      <td>1.0</td>\n    </tr>\n    <tr>\n      <th>7239</th>\n      <td>Alewife-02</td>\n      <td>NaN</td>\n      <td>Alewife</td>\n      <td>Alewife - Red Line - Track 2</td>\n      <td>2</td>\n      <td>Track 2</td>\n      <td>42.396158</td>\n      <td>-71.139971</td>\n      <td>RapidTransit</td>\n      <td>NaN</td>\n      <td>https://www.mbta.com/stops/place-alfcl</td>\n      <td>level_-2_platform</td>\n      <td>0</td>\n      <td>place-alfcl</td>\n      <td>1</td>\n      <td>Cambridge</td>\n      <td>NaN</td>\n      <td>NaN</td>\n      <td>1.0</td>\n    </tr>\n    <tr>\n      <th>7258</th>\n      <td>70083</td>\n      <td>70083.0</td>\n      <td>Andrew</td>\n      <td>Andrew - Red Line - Ashmont/Braintree</td>\n      <td>1</td>\n      <td>Ashmont/Braintree</td>\n      <td>42.330154</td>\n      <td>-71.057655</td>\n      <td>RapidTransit</td>\n      <td>NaN</td>\n      <td>https://www.mbta.com/stops/place-andrw</td>\n      <td>level_-2_platform</td>\n      <td>0</td>\n      <td>place-andrw</td>\n      <td>1</td>\n      <td>Boston</td>\n      <td>NaN</td>\n      <td>NaN</td>\n      <td>1.0</td>\n    </tr>\n    <tr>\n      <th>7259</th>\n      <td>70084</td>\n      <td>70084.0</td>\n      <td>Andrew</td>\n      <td>Andrew - Red Line - Alewife</td>\n      <td>2</td>\n      <td>Alewife</td>\n      <td>42.330154</td>\n      <td>-71.057655</td>\n      <td>RapidTransit</td>\n      <td>NaN</td>\n      <td>https://www.mbta.com/stops/place-andrw</td>\n      <td>level_-2_platform</td>\n      <td>0</td>\n      <td>place-andrw</td>\n      <td>1</td>\n      <td>Boston</td>\n      <td>NaN</td>\n      <td>NaN</td>\n      <td>1.0</td>\n    </tr>\n    <tr>\n      <th>...</th>\n      <td>...</td>\n      <td>...</td>\n      <td>...</td>\n      <td>...</td>\n      <td>...</td>\n      <td>...</td>\n      <td>...</td>\n      <td>...</td>\n      <td>...</td>\n      <td>...</td>\n      <td>...</td>\n      <td>...</td>\n      <td>...</td>\n      <td>...</td>\n      <td>...</td>\n      <td>...</td>\n      <td>...</td>\n      <td>...</td>\n      <td>...</td>\n    </tr>\n    <tr>\n      <th>9550</th>\n      <td>70050</td>\n      <td>70050.0</td>\n      <td>Wood Island</td>\n      <td>Wood Island - Blue Line - Wonderland</td>\n      <td>2</td>\n      <td>Wonderland</td>\n      <td>42.379671</td>\n      <td>-71.022783</td>\n      <td>RapidTransit</td>\n      <td>NaN</td>\n      <td>https://www.mbta.com/stops/place-wimnl</td>\n      <td>level_0_platform</td>\n      <td>0</td>\n      <td>place-wimnl</td>\n      <td>1</td>\n      <td>Boston</td>\n      <td>NaN</td>\n      <td>NaN</td>\n      <td>1.0</td>\n    </tr>\n    <tr>\n      <th>9577</th>\n      <td>70099</td>\n      <td>70099.0</td>\n      <td>Wollaston</td>\n      <td>Wollaston - Red Line - Braintree</td>\n      <td>NaN</td>\n      <td>Braintree</td>\n      <td>42.266762</td>\n      <td>-71.020542</td>\n      <td>RapidTransit</td>\n      <td>NaN</td>\n      <td>https://www.mbta.com/stops/place-wlsta</td>\n      <td>level_1_platform</td>\n      <td>0</td>\n      <td>place-wlsta</td>\n      <td>1</td>\n      <td>Quincy</td>\n      <td>NaN</td>\n      <td>NaN</td>\n      <td>1.0</td>\n    </tr>\n    <tr>\n      <th>9578</th>\n      <td>70100</td>\n      <td>70100.0</td>\n      <td>Wollaston</td>\n      <td>Wollaston - Red Line - Alewife</td>\n      <td>NaN</td>\n      <td>Alewife</td>\n      <td>42.266788</td>\n      <td>-71.020457</td>\n      <td>RapidTransit</td>\n      <td>NaN</td>\n      <td>https://www.mbta.com/stops/place-wlsta</td>\n      <td>level_1_platform</td>\n      <td>0</td>\n      <td>place-wlsta</td>\n      <td>1</td>\n      <td>Quincy</td>\n      <td>NaN</td>\n      <td>NaN</td>\n      <td>1.0</td>\n    </tr>\n    <tr>\n      <th>9619</th>\n      <td>70059</td>\n      <td>70059.0</td>\n      <td>Wonderland</td>\n      <td>Wonderland - Blue Line - Bowdoin</td>\n      <td>1</td>\n      <td>Bowdoin</td>\n      <td>42.413514</td>\n      <td>-70.991714</td>\n      <td>RapidTransit</td>\n      <td>NaN</td>\n      <td>https://www.mbta.com/stops/place-wondl</td>\n      <td>level_0_platform</td>\n      <td>0</td>\n      <td>place-wondl</td>\n      <td>1</td>\n      <td>Revere</td>\n      <td>NaN</td>\n      <td>NaN</td>\n      <td>1.0</td>\n    </tr>\n    <tr>\n      <th>9620</th>\n      <td>70060</td>\n      <td>70060.0</td>\n      <td>Wonderland</td>\n      <td>Wonderland - Blue Line - Exit Only</td>\n      <td>2</td>\n      <td>Exit Only</td>\n      <td>42.413361</td>\n      <td>-70.991685</td>\n      <td>RapidTransit</td>\n      <td>NaN</td>\n      <td>https://www.mbta.com/stops/place-wondl</td>\n      <td>level_0_platform</td>\n      <td>0</td>\n      <td>place-wondl</td>\n      <td>1</td>\n      <td>Revere</td>\n      <td>NaN</td>\n      <td>NaN</td>\n      <td>1.0</td>\n    </tr>\n  </tbody>\n</table>\n<p>114 rows × 19 columns</p>\n</div>"
     },
     "execution_count": 4,
     "metadata": {},
     "output_type": "execute_result"
    }
   ],
   "source": [
    "stops[stops[\"vehicle_type\"] == 1]"
   ],
   "metadata": {
    "collapsed": false,
    "ExecuteTime": {
     "end_time": "2023-11-14T03:46:00.466816600Z",
     "start_time": "2023-11-14T03:46:00.380937600Z"
    }
   },
   "id": "919bacba6a75e2ef"
  },
  {
   "cell_type": "markdown",
   "source": [
    "Ok so now we only have the semi-metro and the subway lines."
   ],
   "metadata": {
    "collapsed": false
   },
   "id": "7f4671525b4fbbe1"
  },
  {
   "cell_type": "code",
   "execution_count": 44,
   "outputs": [
    {
     "data": {
      "text/plain": "                trip_id stop_id  stop_sequence   arrival departure\n11517          59095833   70095            120  19:09:04  19:10:42\n12331  ADDED-1581694455   70095            120  18:29:34  18:31:12\n17404          59095832   70095            120  18:54:07  18:55:45\n20892          59095835   70095            120  19:45:04  19:46:42\n32011          59095834   70095            120  19:27:04  19:28:42",
      "text/html": "<div>\n<style scoped>\n    .dataframe tbody tr th:only-of-type {\n        vertical-align: middle;\n    }\n\n    .dataframe tbody tr th {\n        vertical-align: top;\n    }\n\n    .dataframe thead th {\n        text-align: right;\n    }\n</style>\n<table border=\"1\" class=\"dataframe\">\n  <thead>\n    <tr style=\"text-align: right;\">\n      <th></th>\n      <th>trip_id</th>\n      <th>stop_id</th>\n      <th>stop_sequence</th>\n      <th>arrival</th>\n      <th>departure</th>\n    </tr>\n  </thead>\n  <tbody>\n    <tr>\n      <th>11517</th>\n      <td>59095833</td>\n      <td>70095</td>\n      <td>120</td>\n      <td>19:09:04</td>\n      <td>19:10:42</td>\n    </tr>\n    <tr>\n      <th>12331</th>\n      <td>ADDED-1581694455</td>\n      <td>70095</td>\n      <td>120</td>\n      <td>18:29:34</td>\n      <td>18:31:12</td>\n    </tr>\n    <tr>\n      <th>17404</th>\n      <td>59095832</td>\n      <td>70095</td>\n      <td>120</td>\n      <td>18:54:07</td>\n      <td>18:55:45</td>\n    </tr>\n    <tr>\n      <th>20892</th>\n      <td>59095835</td>\n      <td>70095</td>\n      <td>120</td>\n      <td>19:45:04</td>\n      <td>19:46:42</td>\n    </tr>\n    <tr>\n      <th>32011</th>\n      <td>59095834</td>\n      <td>70095</td>\n      <td>120</td>\n      <td>19:27:04</td>\n      <td>19:28:42</td>\n    </tr>\n  </tbody>\n</table>\n</div>"
     },
     "execution_count": 44,
     "metadata": {},
     "output_type": "execute_result"
    }
   ],
   "source": [
    "stop_time_updates[stop_time_updates['stop_id'] == \"70095\"]"
   ],
   "metadata": {
    "collapsed": false,
    "ExecuteTime": {
     "end_time": "2023-11-14T04:27:25.560507800Z",
     "start_time": "2023-11-14T04:27:25.556215200Z"
    }
   },
   "id": "9cd153b826916860"
  },
  {
   "cell_type": "code",
   "execution_count": 48,
   "outputs": [
    {
     "data": {
      "text/plain": "            trip_id  stop_sequence  arrival  departure\nstop_id                                               \n1                26             26       23         23\n10                8              8        7          7\n10000             4              4        2          2\n10003            14             14       11         11\n10005            13             13       12         12\n...             ...            ...      ...        ...\nWR-0205-02        1              1        1          1\nWR-0228-02        1              1        1          1\nWR-0264-02        1              1        1          1\nWR-0325-01        1              1        1          1\nWR-0329-01        1              1        1          0\n\n[6977 rows x 4 columns]",
      "text/html": "<div>\n<style scoped>\n    .dataframe tbody tr th:only-of-type {\n        vertical-align: middle;\n    }\n\n    .dataframe tbody tr th {\n        vertical-align: top;\n    }\n\n    .dataframe thead th {\n        text-align: right;\n    }\n</style>\n<table border=\"1\" class=\"dataframe\">\n  <thead>\n    <tr style=\"text-align: right;\">\n      <th></th>\n      <th>trip_id</th>\n      <th>stop_sequence</th>\n      <th>arrival</th>\n      <th>departure</th>\n    </tr>\n    <tr>\n      <th>stop_id</th>\n      <th></th>\n      <th></th>\n      <th></th>\n      <th></th>\n    </tr>\n  </thead>\n  <tbody>\n    <tr>\n      <th>1</th>\n      <td>26</td>\n      <td>26</td>\n      <td>23</td>\n      <td>23</td>\n    </tr>\n    <tr>\n      <th>10</th>\n      <td>8</td>\n      <td>8</td>\n      <td>7</td>\n      <td>7</td>\n    </tr>\n    <tr>\n      <th>10000</th>\n      <td>4</td>\n      <td>4</td>\n      <td>2</td>\n      <td>2</td>\n    </tr>\n    <tr>\n      <th>10003</th>\n      <td>14</td>\n      <td>14</td>\n      <td>11</td>\n      <td>11</td>\n    </tr>\n    <tr>\n      <th>10005</th>\n      <td>13</td>\n      <td>13</td>\n      <td>12</td>\n      <td>12</td>\n    </tr>\n    <tr>\n      <th>...</th>\n      <td>...</td>\n      <td>...</td>\n      <td>...</td>\n      <td>...</td>\n    </tr>\n    <tr>\n      <th>WR-0205-02</th>\n      <td>1</td>\n      <td>1</td>\n      <td>1</td>\n      <td>1</td>\n    </tr>\n    <tr>\n      <th>WR-0228-02</th>\n      <td>1</td>\n      <td>1</td>\n      <td>1</td>\n      <td>1</td>\n    </tr>\n    <tr>\n      <th>WR-0264-02</th>\n      <td>1</td>\n      <td>1</td>\n      <td>1</td>\n      <td>1</td>\n    </tr>\n    <tr>\n      <th>WR-0325-01</th>\n      <td>1</td>\n      <td>1</td>\n      <td>1</td>\n      <td>1</td>\n    </tr>\n    <tr>\n      <th>WR-0329-01</th>\n      <td>1</td>\n      <td>1</td>\n      <td>1</td>\n      <td>0</td>\n    </tr>\n  </tbody>\n</table>\n<p>6977 rows × 4 columns</p>\n</div>"
     },
     "execution_count": 48,
     "metadata": {},
     "output_type": "execute_result"
    }
   ],
   "source": [
    "# late count\n",
    "\n",
    "stop_time_updates.groupby(\"stop_id\").count()"
   ],
   "metadata": {
    "collapsed": false,
    "ExecuteTime": {
     "end_time": "2023-11-14T04:31:14.623075600Z",
     "start_time": "2023-11-14T04:31:14.576218Z"
    }
   },
   "id": "2025a1c5e762da03"
  },
  {
   "cell_type": "markdown",
   "id": "045336ad-a1d0-41ae-9a9e-c934958bdaa8",
   "metadata": {},
   "source": [
    "# Cleaning the Data"
   ]
  },
  {
   "cell_type": "markdown",
   "id": "7eb73b2f-2c94-442b-bc2e-c724d04b2045",
   "metadata": {},
   "source": [
    "Ok, so we really need to clean this data up. We remove all stops that are not part of the boston mbta rail lines (ie fake stop data) and we only want the main stop for each station."
   ]
  },
  {
   "cell_type": "code",
   "execution_count": 5,
   "outputs": [
    {
     "data": {
      "text/plain": "              stop_id  stop_code  stop_name  stop_desc  platform_code  \\\nvehicle_type                                                            \n0.0               163        159        163        163              6   \n1.0               114        106        114        114             30   \n\n              platform_name  stop_lat  stop_lon  zone_id  stop_address  \\\nvehicle_type                                                             \n0.0                     163       163       163      163             0   \n1.0                     114       114       114      114             0   \n\n              stop_url  level_id  location_type  parent_station  \\\nvehicle_type                                                      \n0.0                163       163            163             163   \n1.0                114       114            114             114   \n\n              wheelchair_boarding  municipality  on_street  at_street  \nvehicle_type                                                           \n0.0                           163           163          0          0  \n1.0                           114           114          0          0  ",
      "text/html": "<div>\n<style scoped>\n    .dataframe tbody tr th:only-of-type {\n        vertical-align: middle;\n    }\n\n    .dataframe tbody tr th {\n        vertical-align: top;\n    }\n\n    .dataframe thead th {\n        text-align: right;\n    }\n</style>\n<table border=\"1\" class=\"dataframe\">\n  <thead>\n    <tr style=\"text-align: right;\">\n      <th></th>\n      <th>stop_id</th>\n      <th>stop_code</th>\n      <th>stop_name</th>\n      <th>stop_desc</th>\n      <th>platform_code</th>\n      <th>platform_name</th>\n      <th>stop_lat</th>\n      <th>stop_lon</th>\n      <th>zone_id</th>\n      <th>stop_address</th>\n      <th>stop_url</th>\n      <th>level_id</th>\n      <th>location_type</th>\n      <th>parent_station</th>\n      <th>wheelchair_boarding</th>\n      <th>municipality</th>\n      <th>on_street</th>\n      <th>at_street</th>\n    </tr>\n    <tr>\n      <th>vehicle_type</th>\n      <th></th>\n      <th></th>\n      <th></th>\n      <th></th>\n      <th></th>\n      <th></th>\n      <th></th>\n      <th></th>\n      <th></th>\n      <th></th>\n      <th></th>\n      <th></th>\n      <th></th>\n      <th></th>\n      <th></th>\n      <th></th>\n      <th></th>\n      <th></th>\n    </tr>\n  </thead>\n  <tbody>\n    <tr>\n      <th>0.0</th>\n      <td>163</td>\n      <td>159</td>\n      <td>163</td>\n      <td>163</td>\n      <td>6</td>\n      <td>163</td>\n      <td>163</td>\n      <td>163</td>\n      <td>163</td>\n      <td>0</td>\n      <td>163</td>\n      <td>163</td>\n      <td>163</td>\n      <td>163</td>\n      <td>163</td>\n      <td>163</td>\n      <td>0</td>\n      <td>0</td>\n    </tr>\n    <tr>\n      <th>1.0</th>\n      <td>114</td>\n      <td>106</td>\n      <td>114</td>\n      <td>114</td>\n      <td>30</td>\n      <td>114</td>\n      <td>114</td>\n      <td>114</td>\n      <td>114</td>\n      <td>0</td>\n      <td>114</td>\n      <td>114</td>\n      <td>114</td>\n      <td>114</td>\n      <td>114</td>\n      <td>114</td>\n      <td>0</td>\n      <td>0</td>\n    </tr>\n  </tbody>\n</table>\n</div>"
     },
     "execution_count": 5,
     "metadata": {},
     "output_type": "execute_result"
    }
   ],
   "source": [
    "# desired vehicle types 0 and 1\n",
    "my_list = [0,1]\n",
    "\n",
    "mbta_stops = stops.loc[stops[\"vehicle_type\"].isin(my_list)]\n",
    "\n",
    "mbta_stops.groupby(\"vehicle_type\").count()"
   ],
   "metadata": {
    "collapsed": false,
    "ExecuteTime": {
     "end_time": "2023-11-14T03:46:00.488335600Z",
     "start_time": "2023-11-14T03:46:00.415040100Z"
    }
   },
   "id": "d4a4db2a68a4f18c"
  },
  {
   "cell_type": "markdown",
   "id": "c04306e9-4166-41e4-8304-18150958c9e7",
   "metadata": {},
   "source": [
    "We can look at our data now!"
   ]
  },
  {
   "cell_type": "code",
   "execution_count": 6,
   "id": "d2ac4ed2-da2a-4383-b70e-5420c4ee9f31",
   "metadata": {
    "tags": [],
    "ExecuteTime": {
     "end_time": "2023-11-14T03:46:00.491327700Z",
     "start_time": "2023-11-14T03:46:00.432535200Z"
    }
   },
   "outputs": [
    {
     "data": {
      "text/plain": "                        stop_id  stop_code          stop_name  \\\n7468                     170136   170136.0     Babcock Street   \n7469                     170137   170137.0     Babcock Street   \n7250                     170140   170140.0       Amory Street   \n7251                     170141   170141.0       Amory Street   \n8095                      70001    70001.0       Forest Hills   \n...                         ...        ...                ...   \n8159  Government Center-Brattle        NaN  Government Center   \n8717               Oak Grove-01        NaN          Oak Grove   \n8718               Oak Grove-02        NaN          Oak Grove   \n9493            Union Square-01        NaN       Union Square   \n9494            Union Square-02        NaN       Union Square   \n\n                                              stop_desc platform_code  \\\n7468  Babcock Street - Green Line - Park Street & North           NaN   \n7469   Babcock Street - Green Line - (B) Boston College           NaN   \n7250    Amory Street - Green Line - Park Street & North           NaN   \n7251     Amory Street - Green Line - (B) Boston College           NaN   \n8095                         Forest Hills - Orange Line           NaN   \n...                                                 ...           ...   \n8159     Government Center - Green Line - Loop Platform           NaN   \n8717                  Oak Grove - Orange Line - Track 1             1   \n8718                  Oak Grove - Orange Line - Track 2             2   \n9493                Union Square - Green Line - Track 1             1   \n9494                Union Square - Green Line - Track 2             2   \n\n            platform_name   stop_lat   stop_lon       zone_id stop_address  \\\n7468  Park Street & North  42.351538 -71.119553  RapidTransit          NaN   \n7469       Boston College  42.351695 -71.120257  RapidTransit          NaN   \n7250  Park Street & North  42.350901 -71.114318  RapidTransit          NaN   \n7251       Boston College  42.351066 -71.115027  RapidTransit          NaN   \n8095          Orange Line  42.300926 -71.114129  RapidTransit          NaN   \n...                   ...        ...        ...           ...          ...   \n8159        Loop Platform  42.359705 -71.059215  RapidTransit          NaN   \n8717              Track 1  42.437735 -71.070837  RapidTransit          NaN   \n8718              Track 2  42.437727 -71.070905  RapidTransit          NaN   \n9493              Track 1  42.377024 -71.093964  RapidTransit          NaN   \n9494              Track 2  42.376990 -71.093993  RapidTransit          NaN   \n\n                                    stop_url                  level_id  \\\n7468  https://www.mbta.com/stops/place-babck              level_median   \n7469  https://www.mbta.com/stops/place-babck              level_median   \n7250  https://www.mbta.com/stops/place-amory              level_median   \n7251  https://www.mbta.com/stops/place-amory              level_median   \n8095  https://www.mbta.com/stops/place-forhl  level_-1_orange_platform   \n...                                      ...                       ...   \n8159  https://www.mbta.com/stops/place-gover   level_-1_green_platform   \n8717  https://www.mbta.com/stops/place-ogmnl          level_0_platform   \n8718  https://www.mbta.com/stops/place-ogmnl          level_0_platform   \n9493  https://www.mbta.com/stops/place-unsqu              level_ground   \n9494  https://www.mbta.com/stops/place-unsqu              level_ground   \n\n      location_type parent_station  wheelchair_boarding municipality  \\\n7468              0    place-babck                    1       Boston   \n7469              0    place-babck                    1       Boston   \n7250              0    place-amory                    1       Boston   \n7251              0    place-amory                    1       Boston   \n8095              0    place-forhl                    1       Boston   \n...             ...            ...                  ...          ...   \n8159              0    place-gover                    1       Boston   \n8717              0    place-ogmnl                    1       Malden   \n8718              0    place-ogmnl                    1       Malden   \n9493              0    place-unsqu                    1   Somerville   \n9494              0    place-unsqu                    1   Somerville   \n\n     on_street at_street  vehicle_type  \n7468       NaN       NaN           0.0  \n7469       NaN       NaN           0.0  \n7250       NaN       NaN           0.0  \n7251       NaN       NaN           0.0  \n8095       NaN       NaN           1.0  \n...        ...       ...           ...  \n8159       NaN       NaN           0.0  \n8717       NaN       NaN           1.0  \n8718       NaN       NaN           1.0  \n9493       NaN       NaN           0.0  \n9494       NaN       NaN           0.0  \n\n[277 rows x 19 columns]",
      "text/html": "<div>\n<style scoped>\n    .dataframe tbody tr th:only-of-type {\n        vertical-align: middle;\n    }\n\n    .dataframe tbody tr th {\n        vertical-align: top;\n    }\n\n    .dataframe thead th {\n        text-align: right;\n    }\n</style>\n<table border=\"1\" class=\"dataframe\">\n  <thead>\n    <tr style=\"text-align: right;\">\n      <th></th>\n      <th>stop_id</th>\n      <th>stop_code</th>\n      <th>stop_name</th>\n      <th>stop_desc</th>\n      <th>platform_code</th>\n      <th>platform_name</th>\n      <th>stop_lat</th>\n      <th>stop_lon</th>\n      <th>zone_id</th>\n      <th>stop_address</th>\n      <th>stop_url</th>\n      <th>level_id</th>\n      <th>location_type</th>\n      <th>parent_station</th>\n      <th>wheelchair_boarding</th>\n      <th>municipality</th>\n      <th>on_street</th>\n      <th>at_street</th>\n      <th>vehicle_type</th>\n    </tr>\n  </thead>\n  <tbody>\n    <tr>\n      <th>7468</th>\n      <td>170136</td>\n      <td>170136.0</td>\n      <td>Babcock Street</td>\n      <td>Babcock Street - Green Line - Park Street &amp; North</td>\n      <td>NaN</td>\n      <td>Park Street &amp; North</td>\n      <td>42.351538</td>\n      <td>-71.119553</td>\n      <td>RapidTransit</td>\n      <td>NaN</td>\n      <td>https://www.mbta.com/stops/place-babck</td>\n      <td>level_median</td>\n      <td>0</td>\n      <td>place-babck</td>\n      <td>1</td>\n      <td>Boston</td>\n      <td>NaN</td>\n      <td>NaN</td>\n      <td>0.0</td>\n    </tr>\n    <tr>\n      <th>7469</th>\n      <td>170137</td>\n      <td>170137.0</td>\n      <td>Babcock Street</td>\n      <td>Babcock Street - Green Line - (B) Boston College</td>\n      <td>NaN</td>\n      <td>Boston College</td>\n      <td>42.351695</td>\n      <td>-71.120257</td>\n      <td>RapidTransit</td>\n      <td>NaN</td>\n      <td>https://www.mbta.com/stops/place-babck</td>\n      <td>level_median</td>\n      <td>0</td>\n      <td>place-babck</td>\n      <td>1</td>\n      <td>Boston</td>\n      <td>NaN</td>\n      <td>NaN</td>\n      <td>0.0</td>\n    </tr>\n    <tr>\n      <th>7250</th>\n      <td>170140</td>\n      <td>170140.0</td>\n      <td>Amory Street</td>\n      <td>Amory Street - Green Line - Park Street &amp; North</td>\n      <td>NaN</td>\n      <td>Park Street &amp; North</td>\n      <td>42.350901</td>\n      <td>-71.114318</td>\n      <td>RapidTransit</td>\n      <td>NaN</td>\n      <td>https://www.mbta.com/stops/place-amory</td>\n      <td>level_median</td>\n      <td>0</td>\n      <td>place-amory</td>\n      <td>1</td>\n      <td>Boston</td>\n      <td>NaN</td>\n      <td>NaN</td>\n      <td>0.0</td>\n    </tr>\n    <tr>\n      <th>7251</th>\n      <td>170141</td>\n      <td>170141.0</td>\n      <td>Amory Street</td>\n      <td>Amory Street - Green Line - (B) Boston College</td>\n      <td>NaN</td>\n      <td>Boston College</td>\n      <td>42.351066</td>\n      <td>-71.115027</td>\n      <td>RapidTransit</td>\n      <td>NaN</td>\n      <td>https://www.mbta.com/stops/place-amory</td>\n      <td>level_median</td>\n      <td>0</td>\n      <td>place-amory</td>\n      <td>1</td>\n      <td>Boston</td>\n      <td>NaN</td>\n      <td>NaN</td>\n      <td>0.0</td>\n    </tr>\n    <tr>\n      <th>8095</th>\n      <td>70001</td>\n      <td>70001.0</td>\n      <td>Forest Hills</td>\n      <td>Forest Hills - Orange Line</td>\n      <td>NaN</td>\n      <td>Orange Line</td>\n      <td>42.300926</td>\n      <td>-71.114129</td>\n      <td>RapidTransit</td>\n      <td>NaN</td>\n      <td>https://www.mbta.com/stops/place-forhl</td>\n      <td>level_-1_orange_platform</td>\n      <td>0</td>\n      <td>place-forhl</td>\n      <td>1</td>\n      <td>Boston</td>\n      <td>NaN</td>\n      <td>NaN</td>\n      <td>1.0</td>\n    </tr>\n    <tr>\n      <th>...</th>\n      <td>...</td>\n      <td>...</td>\n      <td>...</td>\n      <td>...</td>\n      <td>...</td>\n      <td>...</td>\n      <td>...</td>\n      <td>...</td>\n      <td>...</td>\n      <td>...</td>\n      <td>...</td>\n      <td>...</td>\n      <td>...</td>\n      <td>...</td>\n      <td>...</td>\n      <td>...</td>\n      <td>...</td>\n      <td>...</td>\n      <td>...</td>\n    </tr>\n    <tr>\n      <th>8159</th>\n      <td>Government Center-Brattle</td>\n      <td>NaN</td>\n      <td>Government Center</td>\n      <td>Government Center - Green Line - Loop Platform</td>\n      <td>NaN</td>\n      <td>Loop Platform</td>\n      <td>42.359705</td>\n      <td>-71.059215</td>\n      <td>RapidTransit</td>\n      <td>NaN</td>\n      <td>https://www.mbta.com/stops/place-gover</td>\n      <td>level_-1_green_platform</td>\n      <td>0</td>\n      <td>place-gover</td>\n      <td>1</td>\n      <td>Boston</td>\n      <td>NaN</td>\n      <td>NaN</td>\n      <td>0.0</td>\n    </tr>\n    <tr>\n      <th>8717</th>\n      <td>Oak Grove-01</td>\n      <td>NaN</td>\n      <td>Oak Grove</td>\n      <td>Oak Grove - Orange Line - Track 1</td>\n      <td>1</td>\n      <td>Track 1</td>\n      <td>42.437735</td>\n      <td>-71.070837</td>\n      <td>RapidTransit</td>\n      <td>NaN</td>\n      <td>https://www.mbta.com/stops/place-ogmnl</td>\n      <td>level_0_platform</td>\n      <td>0</td>\n      <td>place-ogmnl</td>\n      <td>1</td>\n      <td>Malden</td>\n      <td>NaN</td>\n      <td>NaN</td>\n      <td>1.0</td>\n    </tr>\n    <tr>\n      <th>8718</th>\n      <td>Oak Grove-02</td>\n      <td>NaN</td>\n      <td>Oak Grove</td>\n      <td>Oak Grove - Orange Line - Track 2</td>\n      <td>2</td>\n      <td>Track 2</td>\n      <td>42.437727</td>\n      <td>-71.070905</td>\n      <td>RapidTransit</td>\n      <td>NaN</td>\n      <td>https://www.mbta.com/stops/place-ogmnl</td>\n      <td>level_0_platform</td>\n      <td>0</td>\n      <td>place-ogmnl</td>\n      <td>1</td>\n      <td>Malden</td>\n      <td>NaN</td>\n      <td>NaN</td>\n      <td>1.0</td>\n    </tr>\n    <tr>\n      <th>9493</th>\n      <td>Union Square-01</td>\n      <td>NaN</td>\n      <td>Union Square</td>\n      <td>Union Square - Green Line - Track 1</td>\n      <td>1</td>\n      <td>Track 1</td>\n      <td>42.377024</td>\n      <td>-71.093964</td>\n      <td>RapidTransit</td>\n      <td>NaN</td>\n      <td>https://www.mbta.com/stops/place-unsqu</td>\n      <td>level_ground</td>\n      <td>0</td>\n      <td>place-unsqu</td>\n      <td>1</td>\n      <td>Somerville</td>\n      <td>NaN</td>\n      <td>NaN</td>\n      <td>0.0</td>\n    </tr>\n    <tr>\n      <th>9494</th>\n      <td>Union Square-02</td>\n      <td>NaN</td>\n      <td>Union Square</td>\n      <td>Union Square - Green Line - Track 2</td>\n      <td>2</td>\n      <td>Track 2</td>\n      <td>42.376990</td>\n      <td>-71.093993</td>\n      <td>RapidTransit</td>\n      <td>NaN</td>\n      <td>https://www.mbta.com/stops/place-unsqu</td>\n      <td>level_ground</td>\n      <td>0</td>\n      <td>place-unsqu</td>\n      <td>1</td>\n      <td>Somerville</td>\n      <td>NaN</td>\n      <td>NaN</td>\n      <td>0.0</td>\n    </tr>\n  </tbody>\n</table>\n<p>277 rows × 19 columns</p>\n</div>"
     },
     "execution_count": 6,
     "metadata": {},
     "output_type": "execute_result"
    }
   ],
   "source": [
    "mbta_stops = mbta_stops.sort_values(\"stop_id\")\n",
    "mbta_stops"
   ]
  },
  {
   "cell_type": "markdown",
   "source": [
    "So stop_id is string means that it is a random repeat, lets remove them\n"
   ],
   "metadata": {
    "collapsed": false
   },
   "id": "750cf62204d2a015"
  },
  {
   "cell_type": "code",
   "execution_count": 10,
   "outputs": [
    {
     "data": {
      "text/plain": "     stop_id  stop_code    stop_name  \\\n8786   70075    70075.0  Park Street   \n8787   70076    70076.0  Park Street   \n8788   70196    70196.0  Park Street   \n8789   70197    70197.0  Park Street   \n8790   70198    70198.0  Park Street   \n8791   70199    70199.0  Park Street   \n8792   70200    70200.0  Park Street   \n8793   71199        NaN  Park Street   \n\n                                              stop_desc platform_code  \\\n8786         Park Street - Red Line - Ashmont/Braintree           NaN   \n8787                   Park Street - Red Line - Alewife           NaN   \n8788      Park Street - Green Line - (B) Boston College             B   \n8789    Park Street - Green Line - (C) Cleveland Circle             C   \n8790           Park Street - Green Line - (D) Riverside             D   \n8791        Park Street - Green Line - (E) Heath Street             E   \n8792  Park Street - Green Line - Government Center &...           NaN   \n8793           Park Street - Green Line - Drop-off Only           NaN   \n\n                  platform_name   stop_lat   stop_lon       zone_id  \\\n8786          Ashmont/Braintree  42.356395 -71.062424  RapidTransit   \n8787                    Alewife  42.356395 -71.062424  RapidTransit   \n8788             Boston College  42.356395 -71.062424  RapidTransit   \n8789           Cleveland Circle  42.356395 -71.062424  RapidTransit   \n8790                  Riverside  42.356395 -71.062424  RapidTransit   \n8791               Heath Street  42.356395 -71.062424  RapidTransit   \n8792  Government Center & North  42.356395 -71.062424  RapidTransit   \n8793              Drop-off Only  42.356395 -71.062424  RapidTransit   \n\n     stop_address                                stop_url  \\\n8786          NaN  https://www.mbta.com/stops/place-pktrm   \n8787          NaN  https://www.mbta.com/stops/place-pktrm   \n8788          NaN  https://www.mbta.com/stops/place-pktrm   \n8789          NaN  https://www.mbta.com/stops/place-pktrm   \n8790          NaN  https://www.mbta.com/stops/place-pktrm   \n8791          NaN  https://www.mbta.com/stops/place-pktrm   \n8792          NaN  https://www.mbta.com/stops/place-pktrm   \n8793          NaN  https://www.mbta.com/stops/place-pktrm   \n\n                     level_id  location_type parent_station  \\\n8786    level_-2_red_platform              0    place-pktrm   \n8787    level_-2_red_platform              0    place-pktrm   \n8788  level_-1_green_platform              0    place-pktrm   \n8789  level_-1_green_platform              0    place-pktrm   \n8790  level_-1_green_platform              0    place-pktrm   \n8791  level_-1_green_platform              0    place-pktrm   \n8792  level_-1_green_platform              0    place-pktrm   \n8793  level_-1_green_platform              0    place-pktrm   \n\n      wheelchair_boarding municipality on_street at_street  vehicle_type  \n8786                    1       Boston       NaN       NaN           1.0  \n8787                    1       Boston       NaN       NaN           1.0  \n8788                    1       Boston       NaN       NaN           0.0  \n8789                    1       Boston       NaN       NaN           0.0  \n8790                    1       Boston       NaN       NaN           0.0  \n8791                    1       Boston       NaN       NaN           0.0  \n8792                    1       Boston       NaN       NaN           0.0  \n8793                    1       Boston       NaN       NaN           0.0  ",
      "text/html": "<div>\n<style scoped>\n    .dataframe tbody tr th:only-of-type {\n        vertical-align: middle;\n    }\n\n    .dataframe tbody tr th {\n        vertical-align: top;\n    }\n\n    .dataframe thead th {\n        text-align: right;\n    }\n</style>\n<table border=\"1\" class=\"dataframe\">\n  <thead>\n    <tr style=\"text-align: right;\">\n      <th></th>\n      <th>stop_id</th>\n      <th>stop_code</th>\n      <th>stop_name</th>\n      <th>stop_desc</th>\n      <th>platform_code</th>\n      <th>platform_name</th>\n      <th>stop_lat</th>\n      <th>stop_lon</th>\n      <th>zone_id</th>\n      <th>stop_address</th>\n      <th>stop_url</th>\n      <th>level_id</th>\n      <th>location_type</th>\n      <th>parent_station</th>\n      <th>wheelchair_boarding</th>\n      <th>municipality</th>\n      <th>on_street</th>\n      <th>at_street</th>\n      <th>vehicle_type</th>\n    </tr>\n  </thead>\n  <tbody>\n    <tr>\n      <th>8786</th>\n      <td>70075</td>\n      <td>70075.0</td>\n      <td>Park Street</td>\n      <td>Park Street - Red Line - Ashmont/Braintree</td>\n      <td>NaN</td>\n      <td>Ashmont/Braintree</td>\n      <td>42.356395</td>\n      <td>-71.062424</td>\n      <td>RapidTransit</td>\n      <td>NaN</td>\n      <td>https://www.mbta.com/stops/place-pktrm</td>\n      <td>level_-2_red_platform</td>\n      <td>0</td>\n      <td>place-pktrm</td>\n      <td>1</td>\n      <td>Boston</td>\n      <td>NaN</td>\n      <td>NaN</td>\n      <td>1.0</td>\n    </tr>\n    <tr>\n      <th>8787</th>\n      <td>70076</td>\n      <td>70076.0</td>\n      <td>Park Street</td>\n      <td>Park Street - Red Line - Alewife</td>\n      <td>NaN</td>\n      <td>Alewife</td>\n      <td>42.356395</td>\n      <td>-71.062424</td>\n      <td>RapidTransit</td>\n      <td>NaN</td>\n      <td>https://www.mbta.com/stops/place-pktrm</td>\n      <td>level_-2_red_platform</td>\n      <td>0</td>\n      <td>place-pktrm</td>\n      <td>1</td>\n      <td>Boston</td>\n      <td>NaN</td>\n      <td>NaN</td>\n      <td>1.0</td>\n    </tr>\n    <tr>\n      <th>8788</th>\n      <td>70196</td>\n      <td>70196.0</td>\n      <td>Park Street</td>\n      <td>Park Street - Green Line - (B) Boston College</td>\n      <td>B</td>\n      <td>Boston College</td>\n      <td>42.356395</td>\n      <td>-71.062424</td>\n      <td>RapidTransit</td>\n      <td>NaN</td>\n      <td>https://www.mbta.com/stops/place-pktrm</td>\n      <td>level_-1_green_platform</td>\n      <td>0</td>\n      <td>place-pktrm</td>\n      <td>1</td>\n      <td>Boston</td>\n      <td>NaN</td>\n      <td>NaN</td>\n      <td>0.0</td>\n    </tr>\n    <tr>\n      <th>8789</th>\n      <td>70197</td>\n      <td>70197.0</td>\n      <td>Park Street</td>\n      <td>Park Street - Green Line - (C) Cleveland Circle</td>\n      <td>C</td>\n      <td>Cleveland Circle</td>\n      <td>42.356395</td>\n      <td>-71.062424</td>\n      <td>RapidTransit</td>\n      <td>NaN</td>\n      <td>https://www.mbta.com/stops/place-pktrm</td>\n      <td>level_-1_green_platform</td>\n      <td>0</td>\n      <td>place-pktrm</td>\n      <td>1</td>\n      <td>Boston</td>\n      <td>NaN</td>\n      <td>NaN</td>\n      <td>0.0</td>\n    </tr>\n    <tr>\n      <th>8790</th>\n      <td>70198</td>\n      <td>70198.0</td>\n      <td>Park Street</td>\n      <td>Park Street - Green Line - (D) Riverside</td>\n      <td>D</td>\n      <td>Riverside</td>\n      <td>42.356395</td>\n      <td>-71.062424</td>\n      <td>RapidTransit</td>\n      <td>NaN</td>\n      <td>https://www.mbta.com/stops/place-pktrm</td>\n      <td>level_-1_green_platform</td>\n      <td>0</td>\n      <td>place-pktrm</td>\n      <td>1</td>\n      <td>Boston</td>\n      <td>NaN</td>\n      <td>NaN</td>\n      <td>0.0</td>\n    </tr>\n    <tr>\n      <th>8791</th>\n      <td>70199</td>\n      <td>70199.0</td>\n      <td>Park Street</td>\n      <td>Park Street - Green Line - (E) Heath Street</td>\n      <td>E</td>\n      <td>Heath Street</td>\n      <td>42.356395</td>\n      <td>-71.062424</td>\n      <td>RapidTransit</td>\n      <td>NaN</td>\n      <td>https://www.mbta.com/stops/place-pktrm</td>\n      <td>level_-1_green_platform</td>\n      <td>0</td>\n      <td>place-pktrm</td>\n      <td>1</td>\n      <td>Boston</td>\n      <td>NaN</td>\n      <td>NaN</td>\n      <td>0.0</td>\n    </tr>\n    <tr>\n      <th>8792</th>\n      <td>70200</td>\n      <td>70200.0</td>\n      <td>Park Street</td>\n      <td>Park Street - Green Line - Government Center &amp;...</td>\n      <td>NaN</td>\n      <td>Government Center &amp; North</td>\n      <td>42.356395</td>\n      <td>-71.062424</td>\n      <td>RapidTransit</td>\n      <td>NaN</td>\n      <td>https://www.mbta.com/stops/place-pktrm</td>\n      <td>level_-1_green_platform</td>\n      <td>0</td>\n      <td>place-pktrm</td>\n      <td>1</td>\n      <td>Boston</td>\n      <td>NaN</td>\n      <td>NaN</td>\n      <td>0.0</td>\n    </tr>\n    <tr>\n      <th>8793</th>\n      <td>71199</td>\n      <td>NaN</td>\n      <td>Park Street</td>\n      <td>Park Street - Green Line - Drop-off Only</td>\n      <td>NaN</td>\n      <td>Drop-off Only</td>\n      <td>42.356395</td>\n      <td>-71.062424</td>\n      <td>RapidTransit</td>\n      <td>NaN</td>\n      <td>https://www.mbta.com/stops/place-pktrm</td>\n      <td>level_-1_green_platform</td>\n      <td>0</td>\n      <td>place-pktrm</td>\n      <td>1</td>\n      <td>Boston</td>\n      <td>NaN</td>\n      <td>NaN</td>\n      <td>0.0</td>\n    </tr>\n  </tbody>\n</table>\n</div>"
     },
     "execution_count": 10,
     "metadata": {},
     "output_type": "execute_result"
    }
   ],
   "source": [
    "# test below\n",
    "mbta_stops[mbta_stops[\"stop_name\"] == \"Park Street\"]"
   ],
   "metadata": {
    "collapsed": false,
    "ExecuteTime": {
     "end_time": "2023-11-14T03:56:44.733986500Z",
     "start_time": "2023-11-14T03:56:44.702052500Z"
    }
   },
   "id": "9e4062eafc76d036"
  },
  {
   "cell_type": "code",
   "execution_count": 9,
   "outputs": [
    {
     "data": {
      "text/plain": "9491              70503\n9492              70504\n9493    Union Square-01\n9494    Union Square-02\nName: stop_id, dtype: object"
     },
     "execution_count": 9,
     "metadata": {},
     "output_type": "execute_result"
    }
   ],
   "source": [
    "mbta_stops[mbta_stops[\"stop_name\"] == \"Union Square\"][\"stop_id\"]"
   ],
   "metadata": {
    "collapsed": false,
    "ExecuteTime": {
     "end_time": "2023-11-14T03:46:21.093623200Z",
     "start_time": "2023-11-14T03:46:21.062128100Z"
    }
   },
   "id": "ed1ac3b2c7901ecd"
  },
  {
   "cell_type": "code",
   "execution_count": null,
   "outputs": [],
   "source": [
    "type(mbta_stops[mbta_stops[\"stop_name\"] == \"Union Square\"][\"stop_id\"])"
   ],
   "metadata": {
    "collapsed": false,
    "ExecuteTime": {
     "start_time": "2023-11-14T03:46:00.478363600Z"
    }
   },
   "id": "38122a12fb8d38d2"
  },
  {
   "cell_type": "markdown",
   "id": "005a81cb-def7-4344-91c8-72894590ae5a",
   "metadata": {},
   "source": [
    "# Creating the Graph (NOT DONE YET)"
   ]
  },
  {
   "cell_type": "markdown",
   "id": "aef4ed86-ef87-4944-a063-e98ba60a2e8b",
   "metadata": {},
   "source": [
    "Now we can use networkx package to create graph objects. We will be using the graph object to create calculations. We will create a simple graph for now."
   ]
  },
  {
   "cell_type": "markdown",
   "id": "13f27eaf-2476-47c3-a958-f149209dbc60",
   "metadata": {},
   "source": [
    "First, we make simple function to turn lists of strings into int."
   ]
  },
  {
   "cell_type": "code",
   "execution_count": null,
   "id": "5dfe655a-3e43-4196-8af5-27c39f5dbc04",
   "metadata": {
    "tags": [],
    "is_executing": true
   },
   "outputs": [],
   "source": [
    "def to_int(l):\n",
    "    \"\"\"\n",
    "    Simple function that takes in a list of strings and returns a string of integers\n",
    "    \"\"\"\n",
    "    return [int(i) for i in l]"
   ]
  },
  {
   "cell_type": "markdown",
   "source": [
    "## WIP FOR BOSTON\n",
    "\n",
    "https://www.mbta.com/schedules/subway\n",
    "\n",
    "We only want lines Red, Mattapan, Orange, Blue, Green BCDE"
   ],
   "metadata": {
    "collapsed": false
   },
   "id": "eb736f67227f9622"
  },
  {
   "cell_type": "code",
   "execution_count": null,
   "outputs": [],
   "source": [
    "# mark"
   ],
   "metadata": {
    "collapsed": false
   },
   "id": "71872e6731458237"
  },
  {
   "cell_type": "code",
   "execution_count": null,
   "outputs": [],
   "source": [
    "# rueben"
   ],
   "metadata": {
    "collapsed": false
   },
   "id": "cd008b33ad452284"
  },
  {
   "cell_type": "code",
   "execution_count": null,
   "outputs": [],
   "source": [
    "# willie"
   ],
   "metadata": {
    "collapsed": false
   },
   "id": "b7827691fd8f185"
  },
  {
   "cell_type": "code",
   "execution_count": null,
   "outputs": [],
   "source": [
    "# bowen"
   ],
   "metadata": {
    "collapsed": false
   },
   "id": "c6d87d064130d606"
  },
  {
   "cell_type": "code",
   "execution_count": null,
   "id": "b38c2820-af01-4fcf-8f91-2b5a189470c2",
   "metadata": {
    "tags": [],
    "is_executing": true
   },
   "outputs": [],
   "source": [
    "# Creating our graph\n",
    "rail_network = nx.Graph()\n",
    "\n",
    "# Node List\n",
    "# Get all stop IDs and put in list\n",
    "NL = stops[\"stop_id\"].tolist()\n",
    "# Cast all IDs to int type\n",
    "NL = [int(i) for i in NL]\n",
    "# Add node list NL as nodes to our graph\n",
    "rail_network.add_nodes_from(NL)\n",
    "\n",
    "# Edges List\n",
    "# Empty list\n",
    "EL = []\n",
    "# Loop through our sorted stops\n",
    "for i in range(len(stops)-1):\n",
    "    # Grab the IDs of each stop and consecutive stop\n",
    "    stop_id_1 = int(stops[\"stop_id\"].iloc[[i]])\n",
    "    stop_id_2 = int(stops[\"stop_id\"].iloc[[i+1]])\n",
    "    \n",
    "    # Append the stop tuple if they are next to each other on the line\n",
    "    if stop_id_1+1 == stop_id_2:\n",
    "        EL.append((stop_id_1, stop_id_2))\n",
    "        \n",
    "# We find the intersection stops\n",
    "\n",
    "# Append the intersection stops\n",
    "\n",
    "# Add edge list to graph\n",
    "\n"
   ]
  },
  {
   "cell_type": "markdown",
   "id": "a668497a-acc8-460a-aa50-20c97553cca3",
   "metadata": {
    "tags": []
   },
   "source": [
    "# Visualization Time!"
   ]
  },
  {
   "cell_type": "markdown",
   "id": "c32e6dd1-8f62-4d2d-995f-eefddf1f2248",
   "metadata": {},
   "source": [
    "Let's see what our graph looks like."
   ]
  },
  {
   "cell_type": "code",
   "execution_count": null,
   "id": "3707ab91-d9e4-4bb5-a3a5-032ed3d71cbb",
   "metadata": {
    "tags": [],
    "is_executing": true
   },
   "outputs": [],
   "source": [
    "# Set figure size\n",
    "fig = plt.figure(figsize = (10,10))\n",
    "# We use Kamada-Kawai positioning algorithm to plot the nodes of the graph\n",
    "nx.draw_kamada_kawai(rail_network, with_labels=True, node_size=100)"
   ]
  },
  {
   "cell_type": "code",
   "execution_count": null,
   "id": "8a7bce77-60ae-4384-bce0-230a08842955",
   "metadata": {
    "tags": [],
    "is_executing": true
   },
   "outputs": [],
   "source": [
    "'''\n",
    "I try to draw each line by itself, but it isnt really working... WIP i guess\n",
    "\n",
    "\n",
    "fig = plt.figure(figsize = (10,10))\n",
    "\n",
    "for i in range(7):\n",
    "    plt.subplot(7,1,i+1)\n",
    "    nodes = [j for j in NL if str(j)[0:3] == f\"80{i+1}\"]\n",
    "    print(nodes)\n",
    "    nx.draw_kamada_kawai(train_network, nodelist = nodes, with_labels=True, node_size=100)\n",
    "    plt.xlabel(f\"Line {i+1}\")\n",
    "\n",
    "plt.show()\n",
    "'''"
   ]
  },
  {
   "cell_type": "markdown",
   "id": "df97a637-50e2-4568-b566-8c8ba0100a8f",
   "metadata": {},
   "source": [
    "# Analysis of Simple Graph"
   ]
  },
  {
   "cell_type": "markdown",
   "id": "3e65d865-e2d5-4492-8bac-58647d10e7b0",
   "metadata": {},
   "source": [
    "We can proceed to do some simple mathematical analysis such as centrality and modularity on our graph. "
   ]
  },
  {
   "cell_type": "markdown",
   "id": "95fe842c-1bf9-45a2-85ad-85a251ea9a3a",
   "metadata": {},
   "source": [
    "We use Katz centrality in this case:"
   ]
  },
  {
   "cell_type": "code",
   "execution_count": null,
   "id": "7741356c-7036-4da8-9c8f-f0201f08162c",
   "metadata": {
    "tags": [],
    "is_executing": true
   },
   "outputs": [],
   "source": [
    "nx.katz_centrality(rail_network, max_iter = 1000)"
   ]
  },
  {
   "cell_type": "markdown",
   "id": "fe619fdb-0055-4a70-b4e1-31562442d1b3",
   "metadata": {},
   "source": [
    "We can also see how modular our network is so far:"
   ]
  },
  {
   "cell_type": "code",
   "execution_count": null,
   "id": "b6d32062-d172-4d09-8789-7b21e2cddd51",
   "metadata": {
    "is_executing": true
   },
   "outputs": [],
   "source": [
    "# Make list of stop IDs\n",
    "stop_id_list = stops[\"stop_id\"].tolist()\n",
    "stop_id_list = to_int(stop_id_list)\n",
    "\n",
    "# Make groups of IDs for each route\n",
    "# Let us use a function\n",
    "def route_id(i, station_list = stop_id_list):\n",
    "    \"\"\"\n",
    "    Function that returns list of ID's given input route ID number\n",
    "    \"\"\"\n",
    "    return [j for j in station_list if str(j)[0:3] == f\"80{i}\"]\n",
    "\n",
    "# Create groups for each of our routes\n",
    "route_A = route_id(1)\n",
    "route_B = route_id(2)\n",
    "route_C = route_id(3)\n",
    "route_E = route_id(4)\n",
    "route_K = route_id(7)\n",
    "route_D = route_id(5)\n",
    "\n",
    "# A list of all our groups!\n",
    "route_groups = [route_A, route_B, route_C, route_E, route_K, route_D]"
   ]
  },
  {
   "cell_type": "code",
   "execution_count": null,
   "id": "db50668a-58f8-4d8b-88d0-e595a6dc3fba",
   "metadata": {
    "tags": [],
    "is_executing": true
   },
   "outputs": [],
   "source": [
    "# Using our networkx function\n",
    "nx.community.modularity(rail_network, route_groups)"
   ]
  },
  {
   "cell_type": "markdown",
   "id": "81d831c9-234d-4404-a4a1-ae6ca354446e",
   "metadata": {},
   "source": [
    "Our graph is really quite modular. This means that rail lines do not intersect with each other all that often in LA."
   ]
  },
  {
   "cell_type": "markdown",
   "id": "128134b5-4074-4a05-86c2-eaaf46112753",
   "metadata": {},
   "source": [
    "# Future Work:"
   ]
  },
  {
   "cell_type": "markdown",
   "id": "477e62b9-f21c-41f3-9475-39a8c20f035b",
   "metadata": {},
   "source": [
    "We will be scraping websites and using API calls to get the needed real time and historical data for the LA rail lines to understand the congestion and how the dynamics of the network changes throughout time. We can even look at holiday rushes etc. We also plan on creating a geographical visualization and visualizing this network and ridership. We will be implementing our findings into an easy to use web app."
   ]
  },
  {
   "cell_type": "code",
   "execution_count": null,
   "id": "526d44d8-eb63-454c-b13d-72712674e590",
   "metadata": {
    "is_executing": true
   },
   "outputs": [],
   "source": []
  }
 ],
 "metadata": {
  "kernelspec": {
   "display_name": "Python 3 (ipykernel)",
   "language": "python",
   "name": "python3"
  },
  "language_info": {
   "codemirror_mode": {
    "name": "ipython",
    "version": 3
   },
   "file_extension": ".py",
   "mimetype": "text/x-python",
   "name": "python",
   "nbconvert_exporter": "python",
   "pygments_lexer": "ipython3",
   "version": "3.11.4"
  }
 },
 "nbformat": 4,
 "nbformat_minor": 5
}
