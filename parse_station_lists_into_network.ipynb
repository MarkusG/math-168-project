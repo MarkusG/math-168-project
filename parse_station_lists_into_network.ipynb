{
 "cells": [
  {
   "cell_type": "code",
   "execution_count": null,
   "metadata": {},
   "outputs": [],
   "source": [
    "import networkx as nx\n",
    "import matplotlib.pyplot as plt\n",
    "\n",
    "def open_line_file(filename):\n",
    "    with open(f'./lines_from_gtfs_static_data/{filename}.txt', 'r') as f:\n",
    "      lines = f.readlines()\n",
    "    return lines\n",
    "\n",
    "line_files = [\n",
    "    'Red-C1-0',\n",
    "    'Red-C1-1',\n",
    "    'Red-C2-0',\n",
    "    'Red-C2-1',\n",
    "    'Green-B-C1-0',\n",
    "    'Green-B-C1-1',\n",
    "    'Green-C-C1-0',\n",
    "    'Green-C-C1-1',\n",
    "    'Green-D-C1-0',\n",
    "    'Green-D-C1-1',\n",
    "    'Green-E-C1-0',\n",
    "    'Green-E-C1-1',\n",
    "    'Orange-C1-0',\n",
    "    'Orange-C1-1',\n",
    "    'Blue-C1-0',\n",
    "    'Blue-C1-1'\n",
    "]\n",
    "\n",
    "line_stations = map(open_line_file, line_files)\n",
    "\n",
    "stations = set()\n",
    "edges = set()\n",
    "\n",
    "for line in line_stations:\n",
    "    for i in range(len(line)-1):\n",
    "        stop_name = line[i].rstrip()\n",
    "        next_stop_name = line[i+1].rstrip()\n",
    "        stations.add(stop_name)\n",
    "        edges.add((stop_name, next_stop_name))\n",
    "    end_stop_name = line[-1].rstrip()\n",
    "    stations.add(end_stop_name)\n",
    "\n",
    "network = nx.Graph()\n",
    "network.add_nodes_from(stations)\n",
    "network.add_edges_from(edges)\n",
    "\n",
    "fig = plt.figure(figsize = (10,10))\n",
    "layout = nx.kamada_kawai_layout(network)\n",
    "nx.draw(network, layout, node_size=50)"
   ]
  },
  {
   "cell_type": "code",
   "execution_count": null,
   "metadata": {},
   "outputs": [],
   "source": [
    "import json\n",
    "\n",
    "delays_file = open(\"./delay_data/named_rapid_transit_delays.json\", 'r')\n",
    "delays_json = delays_file.read()\n",
    "delays_file.close()\n",
    "\n",
    "delays = json.loads(delays_json)\n",
    "fig, ax = plt.subplots()\n",
    "hist = ax.hist(delays.values(), bins=100)"
   ]
  },
  {
   "cell_type": "markdown",
   "metadata": {},
   "source": [
    "We see that most of the delays are around zero, with a handful of extremely negative outliers. We remove the outliers to get a more balanced histogram:"
   ]
  },
  {
   "cell_type": "code",
   "execution_count": null,
   "metadata": {},
   "outputs": [],
   "source": [
    "# remove outliers\n",
    "delays = dict((s, d) for s, d in delays.items() if d > -5000)\n",
    "\n",
    "fig, ax = plt.subplots()\n",
    "hist = ax.hist(delays.values(), bins=100)"
   ]
  },
  {
   "cell_type": "markdown",
   "metadata": {},
   "source": [
    "### Now we add the cleaned delay data as node attributes in NetworkX, and see the results"
   ]
  },
  {
   "cell_type": "code",
   "execution_count": null,
   "metadata": {},
   "outputs": [],
   "source": [
    "nx.set_node_attributes(network, delays, \"avg_delay\")\n",
    "nx.get_node_attributes(network, \"avg_delay\")\n",
    "\n",
    "# proof of concept for coloring nodes; for now just split into positive and negative delays\n",
    "# later we can split into bins\n",
    "nonnegative_delay_nodes = [n for (n, delay) in nx.get_node_attributes(network, \"avg_delay\").items() if delay >= 0]\n",
    "negative_delay_nodes = [n for (n, delay) in nx.get_node_attributes(network, \"avg_delay\").items() if delay < 0]\n",
    "remaining_nodes = list(set(network.nodes()) - set(nonnegative_delay_nodes) - set(negative_delay_nodes))\n",
    "\n",
    "fig = plt.figure(figsize = (10,10))\n",
    "layout = nx.kamada_kawai_layout(network)\n",
    "nx.draw_networkx_nodes(network, layout, nodelist=nonnegative_delay_nodes, node_color='red', node_size=50)\n",
    "nx.draw_networkx_nodes(network, layout, nodelist=negative_delay_nodes, node_color='green', node_size=50)\n",
    "nx.draw_networkx_nodes(network, layout, nodelist=remaining_nodes, node_color='blue', node_size=50)\n",
    "nx.draw_networkx_edges(network, layout)"
   ]
  },
  {
   "cell_type": "code",
   "execution_count": null,
   "metadata": {},
   "outputs": [],
   "source": [
    "avg_delay = nx.get_node_attributes(network, \"avg_delay\")\n",
    "\n",
    "# Calculate the Katz centrality for each node\n",
    "katz_centrality = nx.katz_centrality(network, alpha=0.1)\n",
    "\n",
    "\n",
    "# Nothing compare the average delay with the Katz centrality for each node\n",
    "for (node, delay) in nx.get_node_attributes(network, \"avg_delay\").items():\n",
    "    print(f\"Node {node}:\")\n",
    "    print(f\"  Average delay: {delay}\")\n",
    "    print(f\"  Katz centrality: {katz_centrality[node]}\")\n",
    "\n",
    "\n",
    "print(avg_delay.values())"
   ]
  },
  {
   "cell_type": "code",
   "execution_count": null,
   "metadata": {},
   "outputs": [],
   "source": [
    "import pandas as pd\n",
    "\n",
    "df = pd.DataFrame(list(zip(avg_delay.values(), katz_centrality.values())), columns=[\"avg_delay\", \"katz_centrality\"])\n",
    "\n",
    "# Calculate the correlation coefficient between the two variables\n",
    "correlation = df[\"avg_delay\"].corr(df[\"katz_centrality\"])\n",
    "\n",
    "# Print the correlation coefficient\n",
    "print(\"Correlation Coefficient of avg_delay and katz centrality: \" + str(correlation))\n",
    "\n",
    "# Create a scatter plot of the two variables\n",
    "plt.scatter(df[\"avg_delay\"], df[\"katz_centrality\"])\n",
    "plt.xlabel(\"avg_delay\")\n",
    "plt.ylabel(\"katz_centrality\")\n",
    "\n",
    "# Show the plot\n",
    "plt.show()"
   ]
  },
  {
   "cell_type": "code",
   "execution_count": null,
   "metadata": {},
   "outputs": [],
   "source": []
  }
 ],
 "metadata": {
  "kernelspec": {
   "display_name": "Python 3 (ipykernel)",
   "language": "python",
   "name": "python3"
  },
  "language_info": {
   "codemirror_mode": {
    "name": "ipython",
    "version": 3
   },
   "file_extension": ".py",
   "mimetype": "text/x-python",
   "name": "python",
   "nbconvert_exporter": "python",
   "pygments_lexer": "ipython3",
   "version": "3.11.5"
  }
 },
 "nbformat": 4,
 "nbformat_minor": 4
}
